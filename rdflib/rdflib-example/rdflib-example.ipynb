{
 "cells": [
  {
   "cell_type": "code",
   "execution_count": 1,
   "id": "c37bd6da",
   "metadata": {},
   "outputs": [
    {
     "name": "stderr",
     "output_type": "stream",
     "text": [
      "C:\\Users\\anl\\Anaconda3\\envs\\owlready2\\lib\\site-packages\\owlrl\\__init__.py:177: UserWarning: Code: dateTimeStamp is not defined in namespace XSD\n",
      "  from . import DatatypeHandling, Closure\n",
      "C:\\Users\\anl\\Anaconda3\\envs\\owlready2\\lib\\site-packages\\owlrl\\RDFSClosure.py:40: UserWarning: Code: dateTimeStamp is not defined in namespace XSD\n",
      "  from owlrl.AxiomaticTriples import RDFS_Axiomatic_Triples, RDFS_D_Axiomatic_Triples\n",
      "C:\\Users\\anl\\Anaconda3\\envs\\owlready2\\lib\\site-packages\\owlrl\\RDFSClosure.py:40: UserWarning: Code: length is not defined in namespace XSD\n",
      "  from owlrl.AxiomaticTriples import RDFS_Axiomatic_Triples, RDFS_D_Axiomatic_Triples\n",
      "C:\\Users\\anl\\Anaconda3\\envs\\owlready2\\lib\\site-packages\\owlrl\\RDFSClosure.py:40: UserWarning: Code: maxExclusive is not defined in namespace XSD\n",
      "  from owlrl.AxiomaticTriples import RDFS_Axiomatic_Triples, RDFS_D_Axiomatic_Triples\n",
      "C:\\Users\\anl\\Anaconda3\\envs\\owlready2\\lib\\site-packages\\owlrl\\RDFSClosure.py:40: UserWarning: Code: maxInclusive is not defined in namespace XSD\n",
      "  from owlrl.AxiomaticTriples import RDFS_Axiomatic_Triples, RDFS_D_Axiomatic_Triples\n",
      "C:\\Users\\anl\\Anaconda3\\envs\\owlready2\\lib\\site-packages\\owlrl\\RDFSClosure.py:40: UserWarning: Code: maxLength is not defined in namespace XSD\n",
      "  from owlrl.AxiomaticTriples import RDFS_Axiomatic_Triples, RDFS_D_Axiomatic_Triples\n",
      "C:\\Users\\anl\\Anaconda3\\envs\\owlready2\\lib\\site-packages\\owlrl\\RDFSClosure.py:40: UserWarning: Code: minExclusive is not defined in namespace XSD\n",
      "  from owlrl.AxiomaticTriples import RDFS_Axiomatic_Triples, RDFS_D_Axiomatic_Triples\n",
      "C:\\Users\\anl\\Anaconda3\\envs\\owlready2\\lib\\site-packages\\owlrl\\RDFSClosure.py:40: UserWarning: Code: minInclusive is not defined in namespace XSD\n",
      "  from owlrl.AxiomaticTriples import RDFS_Axiomatic_Triples, RDFS_D_Axiomatic_Triples\n",
      "C:\\Users\\anl\\Anaconda3\\envs\\owlready2\\lib\\site-packages\\owlrl\\RDFSClosure.py:40: UserWarning: Code: minLength is not defined in namespace XSD\n",
      "  from owlrl.AxiomaticTriples import RDFS_Axiomatic_Triples, RDFS_D_Axiomatic_Triples\n",
      "C:\\Users\\anl\\Anaconda3\\envs\\owlready2\\lib\\site-packages\\owlrl\\RDFSClosure.py:40: UserWarning: Code: pattern is not defined in namespace XSD\n",
      "  from owlrl.AxiomaticTriples import RDFS_Axiomatic_Triples, RDFS_D_Axiomatic_Triples\n",
      "C:\\Users\\anl\\Anaconda3\\envs\\owlready2\\lib\\site-packages\\owlrl\\OWLRL.py:53: UserWarning: Code: dateTimeStamp is not defined in namespace XSD\n",
      "  from .XsdDatatypes import OWL_RL_Datatypes, OWL_Datatype_Subsumptions\n",
      "C:\\Users\\anl\\Anaconda3\\envs\\owlready2\\lib\\site-packages\\owlrl\\OWLRLExtras.py:64: UserWarning: Code: dateTimeStamp is not defined in namespace XSD\n",
      "  from .RestrictedDatatype import extract_faceted_datatypes\n"
     ]
    },
    {
     "name": "stdout",
     "output_type": "stream",
     "text": [
      "Loading ontology: http://vicodi.org/ontology#\n",
      "Loading Time:  13.802003145217896\n"
     ]
    }
   ],
   "source": [
    "import rdflib\n",
    "import owlrl\n",
    "import time\n",
    "\n",
    "rdflib.logger.setLevel('FATAL')\n",
    "\n",
    "ns = \"http://vicodi.org/ontology#\"\n",
    "ontology_filename = \"../../ontologies/vicodi_all.owl\"\n",
    "\n",
    "print(\"Loading ontology: \" + ns)\n",
    "\n",
    "\n",
    "g = rdflib.Graph()\n",
    "start_time = time.time()\n",
    "g.parse(ontology_filename)\n",
    "end_time = time.time()\n",
    "print(\"Loading Time: \", end_time - start_time)"
   ]
  },
  {
   "cell_type": "code",
   "execution_count": 2,
   "id": "bb35306a",
   "metadata": {},
   "outputs": [
    {
     "name": "stdout",
     "output_type": "stream",
     "text": [
      "Materializing the ontology\n",
      "Time:  125.7926778793335\n"
     ]
    }
   ],
   "source": [
    "print(\"Materializing the ontology\")\n",
    "start_time = time.time()\n",
    "owlrl.DeductiveClosure(owlrl.OWLRL_Semantics).expand(g)\n",
    "end_time = time.time()\n",
    "print(\"Time: \", end_time - start_time)"
   ]
  },
  {
   "cell_type": "code",
   "execution_count": 3,
   "id": "10a8e6f7",
   "metadata": {},
   "outputs": [
    {
     "name": "stdout",
     "output_type": "stream",
     "text": [
      "Printing superclasses of the Professor\n",
      "->http://vicodi.org/ontology#Person-Role\n",
      "->http://www.w3.org/2002/07/owl#Thing\n",
      "->http://vicodi.org/ontology#Role\n",
      "->http://vicodi.org/ontology#Professor\n",
      "->http://vicodi.org/ontology#Time-Dependent\n",
      "->http://vicodi.org/ontology#VicodiOI\n"
     ]
    }
   ],
   "source": [
    "q1 = \"\"\"\n",
    "            PREFIX : <http://vicodi.org/ontology#>\n",
    "            PREFIX rdfs: <http://www.w3.org/2000/01/rdf-schema#>\n",
    "            SELECT ?s\n",
    "            WHERE {\n",
    "                :Professor rdfs:subClassOf ?s .\n",
    "            }\n",
    "            \"\"\"\n",
    "\n",
    "print(\"Printing superclasses of the Professor\")\n",
    "for r in g.query(q1):\n",
    "    print(\"->\" + r[\"s\"])"
   ]
  },
  {
   "cell_type": "code",
   "execution_count": 4,
   "id": "dbb2c625",
   "metadata": {},
   "outputs": [
    {
     "name": "stdout",
     "output_type": "stream",
     "text": [
      "Printing names of the Professors\n",
      "->http://vicodi.org/ontology#Emily-Greene-Balch\n",
      "->http://vicodi.org/ontology#Ferdinand-Buisson\n",
      "->http://vicodi.org/ontology#Ferdinand-Kindermann\n",
      "->http://vicodi.org/ontology#Ferdinand-de-Saussure\n",
      "->http://vicodi.org/ontology#Jan-Hra%C5%A1e\n",
      "->http://vicodi.org/ontology#Louis-Renault\n",
      "->http://vicodi.org/ontology#Ludwig-Quidde\n",
      "->http://vicodi.org/ontology#Ludwik-Zamenhof\n",
      "->http://vicodi.org/ontology#Martin-Siebenb%C3%BCrger\n",
      "->http://vicodi.org/ontology#Matej-Bel\n",
      "->http://vicodi.org/ontology#Mikhail-Vasilyevich-Lomonosov\n",
      "->http://vicodi.org/ontology#Pere-Bosch-Gimpera\n",
      "->http://vicodi.org/ontology#Pyotr-Kafarov\n",
      "->http://vicodi.org/ontology#Yevgeny-Polivanov\n"
     ]
    }
   ],
   "source": [
    "q2 = \"\"\"\n",
    "            PREFIX : <http://vicodi.org/ontology#>\n",
    "            SELECT ?s\n",
    "            WHERE {\n",
    "                ?s a :Individual .\n",
    "                ?s :hasRole ?r .\n",
    "                ?r a :Professor .\n",
    "            }\n",
    "            \"\"\"\n",
    "print(\"Printing names of the Professors\")\n",
    "for r in g.query(q2):\n",
    "    print(\"->\" + r[\"s\"])"
   ]
  },
  {
   "cell_type": "code",
   "execution_count": 5,
   "id": "2a3c0c58",
   "metadata": {},
   "outputs": [
    {
     "name": "stdout",
     "output_type": "stream",
     "text": [
      "Saving ontology\n"
     ]
    }
   ],
   "source": [
    "print(\"Saving ontology\")\n",
    "g.serialize(\"../../ontologies/vicodi_rdflib_saving.owl\", format=\"turtle\")"
   ]
  }
 ],
 "metadata": {
  "kernelspec": {
   "display_name": "owlready2",
   "language": "python",
   "name": "owlready2"
  },
  "language_info": {
   "codemirror_mode": {
    "name": "ipython",
    "version": 3
   },
   "file_extension": ".py",
   "mimetype": "text/x-python",
   "name": "python",
   "nbconvert_exporter": "python",
   "pygments_lexer": "ipython3",
   "version": "3.9.6"
  }
 },
 "nbformat": 4,
 "nbformat_minor": 5
}
