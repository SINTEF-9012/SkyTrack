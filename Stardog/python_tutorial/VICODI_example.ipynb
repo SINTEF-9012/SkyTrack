{
 "cells": [
  {
   "cell_type": "code",
   "execution_count": 1,
   "id": "215cd62d",
   "metadata": {},
   "outputs": [],
   "source": [
    "import io\n",
    "import stardog\n",
    "import pandas as pd\n",
    "import seaborn as sns"
   ]
  },
  {
   "cell_type": "code",
   "execution_count": 2,
   "id": "afdcd350",
   "metadata": {},
   "outputs": [],
   "source": [
    "connection_details = {\n",
    "  'endpoint': 'http://localhost:5820',\n",
    "  'username': 'admin',\n",
    "  'password': 'admin'\n",
    "}"
   ]
  },
  {
   "cell_type": "code",
   "execution_count": 3,
   "id": "0b42d28e",
   "metadata": {},
   "outputs": [],
   "source": [
    "database_name = 'VICODI'\n",
    "\n",
    "with stardog.Admin(**connection_details) as admin:\n",
    "    if database_name in [db.name for db in admin.databases()]:\n",
    "        admin.database(database_name).drop()\n",
    "    db = admin.new_database(database_name)"
   ]
  },
  {
   "cell_type": "code",
   "execution_count": 4,
   "id": "b1e32780",
   "metadata": {},
   "outputs": [
    {
     "data": {
      "text/plain": [
       "'e8b6cf75-e5d2-42f3-bd77-71b75eeba821'"
      ]
     },
     "execution_count": 4,
     "metadata": {},
     "output_type": "execute_result"
    }
   ],
   "source": [
    "conn = stardog.Connection(database_name, **connection_details)\n",
    "conn.begin()"
   ]
  },
  {
   "cell_type": "code",
   "execution_count": 5,
   "id": "c28cfdd8",
   "metadata": {},
   "outputs": [],
   "source": [
    "conn.add(stardog.content.File('../../ontologies/vicodi_all.owl'), graph_uri=\"http://vicodi.org/ontology\")\n",
    "conn.commit()"
   ]
  },
  {
   "cell_type": "code",
   "execution_count": 6,
   "id": "28e3a395",
   "metadata": {},
   "outputs": [
    {
     "ename": "StardogException",
     "evalue": "[500] 000012: Unrecognized schema: CONSISTENT",
     "output_type": "error",
     "traceback": [
      "\u001b[1;31m---------------------------------------------------------------------------\u001b[0m",
      "\u001b[1;31mStardogException\u001b[0m                          Traceback (most recent call last)",
      "\u001b[1;32m~\\AppData\\Local\\Temp/ipykernel_12404/1112150097.py\u001b[0m in \u001b[0;36m<module>\u001b[1;34m\u001b[0m\n\u001b[1;32m----> 1\u001b[1;33m \u001b[1;32mif\u001b[0m \u001b[0mconn\u001b[0m\u001b[1;33m.\u001b[0m\u001b[0mis_consistent\u001b[0m\u001b[1;33m(\u001b[0m\u001b[0mgraph_uri\u001b[0m\u001b[1;33m=\u001b[0m\u001b[1;34m\"http://vicodi.org/ontology\"\u001b[0m\u001b[1;33m)\u001b[0m\u001b[1;33m:\u001b[0m\u001b[1;33m\u001b[0m\u001b[1;33m\u001b[0m\u001b[0m\n\u001b[0m\u001b[0;32m      2\u001b[0m     \u001b[0mprint\u001b[0m\u001b[1;33m(\u001b[0m\u001b[1;34m\"The data is consitent\"\u001b[0m\u001b[1;33m)\u001b[0m\u001b[1;33m\u001b[0m\u001b[1;33m\u001b[0m\u001b[0m\n\u001b[0;32m      3\u001b[0m \u001b[1;32melse\u001b[0m\u001b[1;33m:\u001b[0m\u001b[1;33m\u001b[0m\u001b[1;33m\u001b[0m\u001b[0m\n\u001b[0;32m      4\u001b[0m     \u001b[0mprint\u001b[0m\u001b[1;33m(\u001b[0m\u001b[1;34m\"The data is NOT consitent\"\u001b[0m\u001b[1;33m)\u001b[0m\u001b[1;33m\u001b[0m\u001b[1;33m\u001b[0m\u001b[0m\n",
      "\u001b[1;32m~\\Anaconda3\\envs\\owlready2\\lib\\site-packages\\stardog\\connection.py\u001b[0m in \u001b[0;36mis_consistent\u001b[1;34m(self, graph_uri)\u001b[0m\n\u001b[0;32m    425\u001b[0m           \u001b[0mbool\u001b[0m\u001b[1;33m:\u001b[0m \u001b[0mDatabase\u001b[0m \u001b[0mconsistency\u001b[0m \u001b[0mstate\u001b[0m\u001b[1;33m\u001b[0m\u001b[1;33m\u001b[0m\u001b[0m\n\u001b[0;32m    426\u001b[0m         \"\"\"\n\u001b[1;32m--> 427\u001b[1;33m         r = self.client.get(\n\u001b[0m\u001b[0;32m    428\u001b[0m             \u001b[1;34m'/reasoning/consistency'\u001b[0m\u001b[1;33m,\u001b[0m\u001b[1;33m\u001b[0m\u001b[1;33m\u001b[0m\u001b[0m\n\u001b[0;32m    429\u001b[0m             \u001b[0mparams\u001b[0m\u001b[1;33m=\u001b[0m\u001b[1;33m{\u001b[0m\u001b[1;34m'graph-uri'\u001b[0m\u001b[1;33m:\u001b[0m \u001b[0mgraph_uri\u001b[0m\u001b[1;33m}\u001b[0m\u001b[1;33m,\u001b[0m\u001b[1;33m\u001b[0m\u001b[1;33m\u001b[0m\u001b[0m\n",
      "\u001b[1;32m~\\Anaconda3\\envs\\owlready2\\lib\\site-packages\\stardog\\http\\client.py\u001b[0m in \u001b[0;36mget\u001b[1;34m(self, path, **kwargs)\u001b[0m\n\u001b[0;32m     39\u001b[0m \u001b[1;33m\u001b[0m\u001b[0m\n\u001b[0;32m     40\u001b[0m     \u001b[1;32mdef\u001b[0m \u001b[0mget\u001b[0m\u001b[1;33m(\u001b[0m\u001b[0mself\u001b[0m\u001b[1;33m,\u001b[0m \u001b[0mpath\u001b[0m\u001b[1;33m,\u001b[0m \u001b[1;33m**\u001b[0m\u001b[0mkwargs\u001b[0m\u001b[1;33m)\u001b[0m\u001b[1;33m:\u001b[0m\u001b[1;33m\u001b[0m\u001b[1;33m\u001b[0m\u001b[0m\n\u001b[1;32m---> 41\u001b[1;33m         \u001b[1;32mreturn\u001b[0m \u001b[0mself\u001b[0m\u001b[1;33m.\u001b[0m\u001b[0m__wrap\u001b[0m\u001b[1;33m(\u001b[0m\u001b[0mself\u001b[0m\u001b[1;33m.\u001b[0m\u001b[0msession\u001b[0m\u001b[1;33m.\u001b[0m\u001b[0mget\u001b[0m\u001b[1;33m(\u001b[0m\u001b[0mself\u001b[0m\u001b[1;33m.\u001b[0m\u001b[0murl\u001b[0m \u001b[1;33m+\u001b[0m \u001b[0mpath\u001b[0m\u001b[1;33m,\u001b[0m \u001b[1;33m**\u001b[0m\u001b[0mkwargs\u001b[0m\u001b[1;33m)\u001b[0m\u001b[1;33m)\u001b[0m\u001b[1;33m\u001b[0m\u001b[1;33m\u001b[0m\u001b[0m\n\u001b[0m\u001b[0;32m     42\u001b[0m \u001b[1;33m\u001b[0m\u001b[0m\n\u001b[0;32m     43\u001b[0m     \u001b[1;32mdef\u001b[0m \u001b[0mdelete\u001b[0m\u001b[1;33m(\u001b[0m\u001b[0mself\u001b[0m\u001b[1;33m,\u001b[0m \u001b[0mpath\u001b[0m\u001b[1;33m,\u001b[0m \u001b[1;33m**\u001b[0m\u001b[0mkwargs\u001b[0m\u001b[1;33m)\u001b[0m\u001b[1;33m:\u001b[0m\u001b[1;33m\u001b[0m\u001b[1;33m\u001b[0m\u001b[0m\n",
      "\u001b[1;32m~\\Anaconda3\\envs\\owlready2\\lib\\site-packages\\stardog\\http\\client.py\u001b[0m in \u001b[0;36m__wrap\u001b[1;34m(self, request)\u001b[0m\n\u001b[0;32m     55\u001b[0m                 \u001b[0mmsg\u001b[0m \u001b[1;33m=\u001b[0m \u001b[1;33m{\u001b[0m\u001b[1;34m'message'\u001b[0m\u001b[1;33m:\u001b[0m \u001b[0mrequest\u001b[0m\u001b[1;33m.\u001b[0m\u001b[0mtext\u001b[0m\u001b[1;33m}\u001b[0m\u001b[1;33m\u001b[0m\u001b[1;33m\u001b[0m\u001b[0m\n\u001b[0;32m     56\u001b[0m \u001b[1;33m\u001b[0m\u001b[0m\n\u001b[1;32m---> 57\u001b[1;33m             raise exceptions.StardogException('[{}] {}: {}'.format(\n\u001b[0m\u001b[0;32m     58\u001b[0m                 request.status_code, msg.get('code', ''), msg.get(\n\u001b[0;32m     59\u001b[0m                     'message', '')))\n",
      "\u001b[1;31mStardogException\u001b[0m: [500] 000012: Unrecognized schema: CONSISTENT"
     ]
    }
   ],
   "source": [
    "if conn.is_consistent(graph_uri=\"http://vicodi.org/ontology\"):\n",
    "    print(\"The data is consitent\")\n",
    "else:\n",
    "    print(\"The data is NOT consitent\")"
   ]
  },
  {
   "cell_type": "code",
   "execution_count": 5,
   "id": "1a551c54",
   "metadata": {},
   "outputs": [
    {
     "name": "stdout",
     "output_type": "stream",
     "text": [
      "Empty DataFrame\n",
      "Columns: [s]\n",
      "Index: []\n"
     ]
    }
   ],
   "source": [
    "query = \"\"\"\n",
    " PREFIX : <http://vicodi.org/ontology#>\n",
    "            PREFIX rdfs: <http://www.w3.org/2000/01/rdf-schema#>\n",
    "            SELECT ?s\n",
    "            WHERE {\n",
    "                :Professor rdfs:subClassOf ?s .\n",
    "            }\n",
    "\"\"\"\n",
    "\n",
    "csv_results = conn.select(query, content_type='text/csv', reasoning=True)\n",
    "df = pd.read_csv(io.BytesIO(csv_results))\n",
    "print(df)"
   ]
  },
  {
   "cell_type": "code",
   "execution_count": 23,
   "id": "716cb3ee",
   "metadata": {},
   "outputs": [
    {
     "name": "stdout",
     "output_type": "stream",
     "text": [
      "Empty DataFrame\n",
      "Columns: [s]\n",
      "Index: []\n"
     ]
    }
   ],
   "source": [
    "query = \"\"\"\n",
    " PREFIX : <http://vicodi.org/ontology#>\n",
    "            SELECT ?s\n",
    "            WHERE {\n",
    "                ?s a :Individual .\n",
    "                ?s :hasRole ?r .\n",
    "                ?r a :Professor .\n",
    "            }\n",
    "\"\"\"\n",
    "\n",
    "csv_results = conn.select(query, content_type='text/csv', reasoning=True)\n",
    "df = pd.read_csv(io.BytesIO(csv_results))\n",
    "print(df)"
   ]
  },
  {
   "cell_type": "code",
   "execution_count": 24,
   "id": "04dce7fc",
   "metadata": {},
   "outputs": [],
   "source": [
    "conn.__exit__()"
   ]
  }
 ],
 "metadata": {
  "kernelspec": {
   "display_name": "owlready2",
   "language": "python",
   "name": "owlready2"
  },
  "language_info": {
   "codemirror_mode": {
    "name": "ipython",
    "version": 3
   },
   "file_extension": ".py",
   "mimetype": "text/x-python",
   "name": "python",
   "nbconvert_exporter": "python",
   "pygments_lexer": "ipython3",
   "version": "3.9.6"
  }
 },
 "nbformat": 4,
 "nbformat_minor": 5
}
