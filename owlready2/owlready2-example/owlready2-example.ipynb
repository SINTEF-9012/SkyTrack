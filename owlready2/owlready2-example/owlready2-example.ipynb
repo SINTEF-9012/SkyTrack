{
 "cells": [
  {
   "cell_type": "code",
   "execution_count": 1,
   "id": "e3e65468",
   "metadata": {},
   "outputs": [
    {
     "name": "stdout",
     "output_type": "stream",
     "text": [
      "Loading ontology http://vicodi.org/ontology#\n",
      "Number of classes: 194\n",
      "Number of individual:  33238\n"
     ]
    }
   ],
   "source": [
    "import owlready2 as owlready2\n",
    "import time\n",
    "\n",
    "    \n",
    "owlready2.onto_path.append(\"../../ontologies/\")\n",
    "ns = \"http://vicodi.org/ontology#\"\n",
    "ontology_filename = \"vicodi_all.owl\"\n",
    "\n",
    "\n",
    "print(\"Loading ontology \" + ns)\n",
    "onto = owlready2.get_ontology(ontology_filename).load()\n",
    "onto.base_iri = ns\n",
    "onto_classes = list(onto.classes())\n",
    "onto_individuals = list(onto.individuals())\n",
    "print(\"Number of classes:\", len(onto_classes))\n",
    "print(\"Number of individual: \", len(onto_individuals))"
   ]
  },
  {
   "cell_type": "code",
   "execution_count": 5,
   "id": "73b8d193",
   "metadata": {},
   "outputs": [
    {
     "name": "stdout",
     "output_type": "stream",
     "text": [
      "Starting reasoner\n"
     ]
    },
    {
     "name": "stderr",
     "output_type": "stream",
     "text": [
      "* Owlready2 * Running HermiT...\n",
      "    java -Xmx2000M -cp C:\\Users\\anl\\Anaconda3\\envs\\owlready2\\lib\\site-packages\\owlready2\\hermit;C:\\Users\\anl\\Anaconda3\\envs\\owlready2\\lib\\site-packages\\owlready2\\hermit\\HermiT.jar org.semanticweb.HermiT.cli.CommandLine -c -O -D -I file:///C:/Users/anl/AppData/Local/Temp/tmp9dkwzldv -Y\n",
      "* Owlready2 * HermiT took 13.663978338241577 seconds\n",
      "* Owlready * (NB: only changes on entities loaded in Python are shown, other changes are done but not listed)\n"
     ]
    }
   ],
   "source": [
    "print(\"Starting reasoner\")\n",
    "with onto:\n",
    "    owlready2.sync_reasoner(infer_property_values=True)"
   ]
  },
  {
   "cell_type": "code",
   "execution_count": 7,
   "id": "7aedc19d",
   "metadata": {},
   "outputs": [
    {
     "name": "stdout",
     "output_type": "stream",
     "text": [
      "Printing superclasses of the Professor\n",
      "[ontology.Person-Role]\n"
     ]
    }
   ],
   "source": [
    "print(\"Printing superclasses of the Professor\")\n",
    "print(onto.Professor.is_a)"
   ]
  },
  {
   "cell_type": "code",
   "execution_count": 8,
   "id": "5e3d3610",
   "metadata": {},
   "outputs": [
    {
     "name": "stdout",
     "output_type": "stream",
     "text": [
      "Printing names of the Professors\n",
      "->Emily-Greene-Balch\n",
      "->Ferdinand-Buisson\n",
      "->Ferdinand-Kindermann\n",
      "->Ferdinand-de-Saussure\n",
      "->Jan-Hra%C5%A1e\n",
      "->Louis-Renault\n",
      "->Ludwig-Quidde\n",
      "->Ludwik-Zamenhof\n",
      "->Martin-Siebenb%C3%BCrger\n",
      "->Matej-Bel\n",
      "->Mikhail-Vasilyevich-Lomonosov\n",
      "->Pere-Bosch-Gimpera\n",
      "->Pyotr-Kafarov\n",
      "->Yevgeny-Polivanov\n"
     ]
    }
   ],
   "source": [
    "print(\"Printing names of the Professors\")\n",
    "for ind in onto.Individual.instances():\n",
    "    for roles in ind.hasRole:\n",
    "        for role in roles.is_a:\n",
    "            if role == onto.Professor:\n",
    "                print(\"->\" + str(ind.name))"
   ]
  },
  {
   "cell_type": "code",
   "execution_count": 9,
   "id": "a09e88e9",
   "metadata": {},
   "outputs": [
    {
     "name": "stdout",
     "output_type": "stream",
     "text": [
      "Saving ontology\n"
     ]
    }
   ],
   "source": [
    "print(\"Saving ontology\")\n",
    "onto.save(file=\"../../ontologies/vicodi_owlready2_saving.owl\", format=\"ntriples\")"
   ]
  }
 ],
 "metadata": {
  "kernelspec": {
   "display_name": "owlready2",
   "language": "python",
   "name": "owlready2"
  },
  "language_info": {
   "codemirror_mode": {
    "name": "ipython",
    "version": 3
   },
   "file_extension": ".py",
   "mimetype": "text/x-python",
   "name": "python",
   "nbconvert_exporter": "python",
   "pygments_lexer": "ipython3",
   "version": "3.9.6"
  }
 },
 "nbformat": 4,
 "nbformat_minor": 5
}
